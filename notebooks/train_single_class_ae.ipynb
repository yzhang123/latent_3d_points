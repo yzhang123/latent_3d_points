{
 "cells": [
  {
   "cell_type": "markdown",
   "metadata": {},
   "source": [
    "## This notebook will help you train a vanilla Point-Cloud AE with the basic architecture we used in our paper.\n",
    "    (it assumes latent_3d_points is in the PYTHONPATH and the structural losses have been compiled)"
   ]
  },
  {
   "cell_type": "code",
   "execution_count": 1,
   "metadata": {},
   "outputs": [
    {
     "name": "stdout",
     "output_type": "stream",
     "text": [
      "/home/yz6/.virtualenvs/gan_env/bin/jupyter\r\n"
     ]
    }
   ],
   "source": [
    "!which jupyter"
   ]
  },
  {
   "cell_type": "code",
   "execution_count": 2,
   "metadata": {},
   "outputs": [
    {
     "name": "stderr",
     "output_type": "stream",
     "text": [
      "/home/yz6/.virtualenvs/gan_env/lib/python2.7/site-packages/h5py/__init__.py:36: FutureWarning: Conversion of the second argument of issubdtype from `float` to `np.floating` is deprecated. In future, it will be treated as `np.float64 == np.dtype(float).type`.\n",
      "  from ._conv import register_converters as _register_converters\n"
     ]
    }
   ],
   "source": [
    "\n",
    "\n",
    "import os.path as osp\n",
    "\n",
    "from latent_3d_points.src.ae_templates import mlp_architecture_ala_iclr_18, default_train_params\n",
    "from latent_3d_points.src.autoencoder import Configuration as Conf\n",
    "from latent_3d_points.src.point_net_ae import PointNetAutoEncoder\n",
    "\n",
    "from latent_3d_points.src.in_out import snc_category_to_synth_id, create_dir, PointCloudDataSet, \\\n",
    "                                        load_all_point_clouds_under_folder\n",
    "\n",
    "from latent_3d_points.src.tf_utils import reset_tf_graph"
   ]
  },
  {
   "cell_type": "code",
   "execution_count": 3,
   "metadata": {},
   "outputs": [],
   "source": [
    "%load_ext autoreload\n",
    "%autoreload 2\n",
    "%matplotlib inline"
   ]
  },
  {
   "cell_type": "markdown",
   "metadata": {},
   "source": [
    "Define Basic Parameters"
   ]
  },
  {
   "cell_type": "code",
   "execution_count": 11,
   "metadata": {},
   "outputs": [
    {
     "name": "stdout",
     "output_type": "stream",
     "text": [
      "Give me the class name (e.g. \"chair\"): airplane\n"
     ]
    }
   ],
   "source": [
    "top_out_dir = '../data/'                        # Use to write Neural-Net check-points etc.\n",
    "top_in_dir = '../data/shape_net_core_uniform_samples_2048/' # Top-dir of where point-clouds are stored.\n",
    "\n",
    "experiment_name = 'single_class_ae'\n",
    "n_pc_points = 2048                              # Number of points per model.\n",
    "bneck_size = 128                                # Bottleneck-AE size\n",
    "ae_loss = 'emd'                             # Loss to optimize: 'emd' or 'chamfer'\n",
    "class_name = raw_input('Give me the class name (e.g. \"chair\"): ').lower()"
   ]
  },
  {
   "cell_type": "markdown",
   "metadata": {},
   "source": [
    "Load Point-Clouds"
   ]
  },
  {
   "cell_type": "code",
   "execution_count": 12,
   "metadata": {},
   "outputs": [
    {
     "name": "stdout",
     "output_type": "stream",
     "text": [
      "4045 pclouds were loaded. They belong in 1 shape-classes.\n"
     ]
    }
   ],
   "source": [
    "syn_id = snc_category_to_synth_id()[class_name]\n",
    "class_dir = osp.join(top_in_dir , syn_id)\n",
    "all_pc_data = load_all_point_clouds_under_folder(class_dir, n_threads=8, file_ending='.ply', verbose=True)"
   ]
  },
  {
   "cell_type": "markdown",
   "metadata": {},
   "source": [
    "Load default training parameters (some of which are listed here). For more details please use print, etc.\n",
    "\n",
    "    'batch_size': 50   \n",
    "    \n",
    "    'denoising': False     (# by default AE is not denoising)\n",
    "\n",
    "    'learning_rate': 0.0005\n",
    "\n",
    "    'z_rotate': False      (# randomly rotate models of each batch)\n",
    "    \n",
    "    'loss_display_step': 1 (# display loss at end of this many epochs)\n",
    "    'saver_step': 10       (# how many epochs to save neural-network)"
   ]
  },
  {
   "cell_type": "code",
   "execution_count": 13,
   "metadata": {},
   "outputs": [],
   "source": [
    "train_dir = create_dir(osp.join(top_out_dir, experiment_name))\n",
    "train_params = default_train_params()\n",
    "encoder, decoder, enc_args, dec_args = mlp_architecture_ala_iclr_18(n_pc_points, bneck_size)"
   ]
  },
  {
   "cell_type": "code",
   "execution_count": 14,
   "metadata": {},
   "outputs": [],
   "source": [
    "conf = Conf(n_input = [n_pc_points, 3],\n",
    "            loss = ae_loss,\n",
    "            training_epochs = train_params['training_epochs'],\n",
    "            batch_size = train_params['batch_size'],\n",
    "            denoising = train_params['denoising'],\n",
    "            learning_rate = train_params['learning_rate'],\n",
    "            train_dir = train_dir,\n",
    "            loss_display_step = train_params['loss_display_step'],\n",
    "            saver_step = train_params['saver_step'],\n",
    "            z_rotate = train_params['z_rotate'],\n",
    "            encoder = encoder,\n",
    "            decoder = decoder,\n",
    "            encoder_args = enc_args,\n",
    "            decoder_args = dec_args\n",
    "           )\n",
    "conf.experiment_name = experiment_name\n",
    "conf.held_out_step = 5              # How often to evaluate/print out loss on held_out data (if any).\n",
    "conf.save(osp.join(train_dir, 'configuration'))"
   ]
  },
  {
   "cell_type": "markdown",
   "metadata": {},
   "source": [
    "Build AE Model."
   ]
  },
  {
   "cell_type": "code",
   "execution_count": 15,
   "metadata": {},
   "outputs": [
    {
     "name": "stdout",
     "output_type": "stream",
     "text": [
      "Building Encoder\n",
      "WARNING:tensorflow:From /home/yz6/.virtualenvs/gan_env/lib/python2.7/site-packages/tflearn/initializations.py:119: __init__ (from tensorflow.python.ops.init_ops) is deprecated and will be removed in a future version.\n",
      "Instructions for updating:\n",
      "Use tf.initializers.variance_scaling instead with distribution=uniform to get equivalent behavior.\n",
      "encoder_conv_layer_0 conv params =  256 bnorm params =  128\n",
      "Tensor(\"single_class_ae_2/Relu:0\", shape=(?, 2048, 64), dtype=float32)\n",
      "output size: 131072 \n",
      "\n",
      "encoder_conv_layer_1 conv params =  8320 bnorm params =  256\n",
      "Tensor(\"single_class_ae_2/Relu_1:0\", shape=(?, 2048, 128), dtype=float32)\n",
      "output size: 262144 \n",
      "\n",
      "encoder_conv_layer_2 conv params =  16512 bnorm params =  256\n",
      "Tensor(\"single_class_ae_2/Relu_2:0\", shape=(?, 2048, 128), dtype=float32)\n",
      "output size: 262144 \n",
      "\n",
      "encoder_conv_layer_3 conv params =  33024 bnorm params =  512\n",
      "Tensor(\"single_class_ae_2/Relu_3:0\", shape=(?, 2048, 256), dtype=float32)\n",
      "output size: 524288 \n",
      "\n",
      "encoder_conv_layer_4 conv params =  32896 bnorm params =  256\n",
      "Tensor(\"single_class_ae_2/Relu_4:0\", shape=(?, 2048, 128), dtype=float32)\n",
      "output size: 262144 \n",
      "\n",
      "Tensor(\"single_class_ae_2/Max:0\", shape=(?, 128), dtype=float32)\n",
      "Building Decoder\n",
      "decoder_fc_0 FC params =  33024 Tensor(\"single_class_ae_2/Relu_5:0\", shape=(?, 256), dtype=float32)\n",
      "output size: 256 \n",
      "\n",
      "decoder_fc_1 FC params =  65792 Tensor(\"single_class_ae_2/Relu_6:0\", shape=(?, 256), dtype=float32)\n",
      "output size: 256 \n",
      "\n",
      "decoder_fc_2 FC params =  1579008 Tensor(\"single_class_ae_2/decoder_fc_2/BiasAdd:0\", shape=(?, 6144), dtype=float32)\n",
      "output size: 6144 \n",
      "\n"
     ]
    }
   ],
   "source": [
    "reset_tf_graph()\n",
    "ae = PointNetAutoEncoder(conf.experiment_name, conf)"
   ]
  },
  {
   "cell_type": "markdown",
   "metadata": {},
   "source": [
    "Train the AE (save output to train_stats.txt) "
   ]
  },
  {
   "cell_type": "code",
   "execution_count": null,
   "metadata": {
    "scrolled": false
   },
   "outputs": [
    {
     "name": "stdout",
     "output_type": "stream",
     "text": [
      "('Epoch:', '0001', 'training time (minutes)=', '0.5557', 'loss=', '0.077831632')\n",
      "INFO:tensorflow:../data/single_class_ae/models.ckpt-1 is not in all_model_checkpoint_paths. Manually adding it.\n",
      "('Epoch:', '0002', 'training time (minutes)=', '0.5534', 'loss=', '0.051425679')\n",
      "('Epoch:', '0003', 'training time (minutes)=', '0.5535', 'loss=', '0.048744040')\n",
      "('Epoch:', '0004', 'training time (minutes)=', '0.5532', 'loss=', '0.046022463')\n",
      "('Epoch:', '0005', 'training time (minutes)=', '0.5532', 'loss=', '0.044571394')\n",
      "('Epoch:', '0006', 'training time (minutes)=', '0.5533', 'loss=', '0.043440614')\n",
      "('Epoch:', '0007', 'training time (minutes)=', '0.5531', 'loss=', '0.041913794')\n",
      "('Epoch:', '0008', 'training time (minutes)=', '0.5530', 'loss=', '0.041085395')\n",
      "('Epoch:', '0009', 'training time (minutes)=', '0.5531', 'loss=', '0.040669892')\n",
      "('Epoch:', '0010', 'training time (minutes)=', '0.5531', 'loss=', '0.039997117')\n",
      "INFO:tensorflow:../data/single_class_ae/models.ckpt-10 is not in all_model_checkpoint_paths. Manually adding it.\n",
      "('Epoch:', '0011', 'training time (minutes)=', '0.5531', 'loss=', '0.039551255')\n",
      "('Epoch:', '0012', 'training time (minutes)=', '0.5531', 'loss=', '0.039374836')\n",
      "('Epoch:', '0013', 'training time (minutes)=', '0.5531', 'loss=', '0.039173024')\n",
      "('Epoch:', '0014', 'training time (minutes)=', '0.5530', 'loss=', '0.038589625')\n",
      "('Epoch:', '0015', 'training time (minutes)=', '0.5532', 'loss=', '0.037915421')\n",
      "('Epoch:', '0016', 'training time (minutes)=', '0.5532', 'loss=', '0.038238164')\n",
      "('Epoch:', '0017', 'training time (minutes)=', '0.5529', 'loss=', '0.037450582')\n",
      "('Epoch:', '0018', 'training time (minutes)=', '0.5531', 'loss=', '0.037451797')\n",
      "('Epoch:', '0019', 'training time (minutes)=', '0.5530', 'loss=', '0.037498130')\n",
      "('Epoch:', '0020', 'training time (minutes)=', '0.5529', 'loss=', '0.036891892')\n",
      "INFO:tensorflow:../data/single_class_ae/models.ckpt-20 is not in all_model_checkpoint_paths. Manually adding it.\n",
      "('Epoch:', '0021', 'training time (minutes)=', '0.5530', 'loss=', '0.036357488')\n",
      "('Epoch:', '0022', 'training time (minutes)=', '0.5530', 'loss=', '0.036298311')\n",
      "('Epoch:', '0023', 'training time (minutes)=', '0.5531', 'loss=', '0.036734331')\n",
      "('Epoch:', '0024', 'training time (minutes)=', '0.5530', 'loss=', '0.036187722')\n",
      "('Epoch:', '0025', 'training time (minutes)=', '0.5531', 'loss=', '0.036054940')\n",
      "('Epoch:', '0026', 'training time (minutes)=', '0.5530', 'loss=', '0.036059759')\n",
      "('Epoch:', '0027', 'training time (minutes)=', '0.5532', 'loss=', '0.035983103')\n",
      "('Epoch:', '0028', 'training time (minutes)=', '0.5530', 'loss=', '0.035364607')\n",
      "('Epoch:', '0029', 'training time (minutes)=', '0.5530', 'loss=', '0.035691737')\n",
      "('Epoch:', '0030', 'training time (minutes)=', '0.5530', 'loss=', '0.035349134')\n",
      "INFO:tensorflow:../data/single_class_ae/models.ckpt-30 is not in all_model_checkpoint_paths. Manually adding it.\n",
      "('Epoch:', '0031', 'training time (minutes)=', '0.5531', 'loss=', '0.034858219')\n",
      "('Epoch:', '0032', 'training time (minutes)=', '0.5530', 'loss=', '0.035010726')\n",
      "('Epoch:', '0033', 'training time (minutes)=', '0.5532', 'loss=', '0.034680848')\n",
      "('Epoch:', '0034', 'training time (minutes)=', '0.5534', 'loss=', '0.035006064')\n",
      "('Epoch:', '0035', 'training time (minutes)=', '0.5531', 'loss=', '0.035045677')\n",
      "('Epoch:', '0036', 'training time (minutes)=', '0.5530', 'loss=', '0.033933414')\n",
      "('Epoch:', '0037', 'training time (minutes)=', '0.5530', 'loss=', '0.034248428')\n",
      "('Epoch:', '0038', 'training time (minutes)=', '0.5530', 'loss=', '0.034213973')\n",
      "('Epoch:', '0039', 'training time (minutes)=', '0.5530', 'loss=', '0.034076450')\n",
      "('Epoch:', '0040', 'training time (minutes)=', '0.5531', 'loss=', '0.034214688')\n",
      "INFO:tensorflow:../data/single_class_ae/models.ckpt-40 is not in all_model_checkpoint_paths. Manually adding it.\n",
      "('Epoch:', '0041', 'training time (minutes)=', '0.5534', 'loss=', '0.034467263')\n",
      "('Epoch:', '0042', 'training time (minutes)=', '0.5532', 'loss=', '0.034781186')\n",
      "('Epoch:', '0043', 'training time (minutes)=', '0.5529', 'loss=', '0.033720059')\n",
      "('Epoch:', '0044', 'training time (minutes)=', '0.5531', 'loss=', '0.033528697')\n",
      "('Epoch:', '0045', 'training time (minutes)=', '0.5532', 'loss=', '0.033635181')\n",
      "('Epoch:', '0046', 'training time (minutes)=', '0.5531', 'loss=', '0.033663175')\n",
      "('Epoch:', '0047', 'training time (minutes)=', '0.5529', 'loss=', '0.033754083')\n",
      "('Epoch:', '0048', 'training time (minutes)=', '0.5530', 'loss=', '0.033711215')\n",
      "('Epoch:', '0049', 'training time (minutes)=', '0.5532', 'loss=', '0.033177661')\n",
      "('Epoch:', '0050', 'training time (minutes)=', '0.5531', 'loss=', '0.033556108')\n",
      "INFO:tensorflow:../data/single_class_ae/models.ckpt-50 is not in all_model_checkpoint_paths. Manually adding it.\n",
      "('Epoch:', '0051', 'training time (minutes)=', '0.5531', 'loss=', '0.033300679')\n",
      "('Epoch:', '0052', 'training time (minutes)=', '0.5530', 'loss=', '0.032912397')\n",
      "('Epoch:', '0053', 'training time (minutes)=', '0.5532', 'loss=', '0.033191380')\n",
      "('Epoch:', '0054', 'training time (minutes)=', '0.5529', 'loss=', '0.032780695')\n",
      "('Epoch:', '0055', 'training time (minutes)=', '0.5530', 'loss=', '0.032967080')\n",
      "('Epoch:', '0056', 'training time (minutes)=', '0.5532', 'loss=', '0.033583525')\n",
      "('Epoch:', '0057', 'training time (minutes)=', '0.5531', 'loss=', '0.033517936')\n",
      "('Epoch:', '0058', 'training time (minutes)=', '0.5531', 'loss=', '0.032678481')\n",
      "('Epoch:', '0059', 'training time (minutes)=', '0.5531', 'loss=', '0.033457321')\n",
      "('Epoch:', '0060', 'training time (minutes)=', '0.5532', 'loss=', '0.032873039')\n",
      "INFO:tensorflow:../data/single_class_ae/models.ckpt-60 is not in all_model_checkpoint_paths. Manually adding it.\n",
      "('Epoch:', '0061', 'training time (minutes)=', '0.5531', 'loss=', '0.032815004')\n",
      "('Epoch:', '0062', 'training time (minutes)=', '0.5530', 'loss=', '0.032788223')\n",
      "('Epoch:', '0063', 'training time (minutes)=', '0.5531', 'loss=', '0.032201812')\n",
      "('Epoch:', '0064', 'training time (minutes)=', '0.5531', 'loss=', '0.032270073')\n",
      "('Epoch:', '0065', 'training time (minutes)=', '0.5530', 'loss=', '0.032084106')\n",
      "('Epoch:', '0066', 'training time (minutes)=', '0.5531', 'loss=', '0.032445676')\n",
      "('Epoch:', '0067', 'training time (minutes)=', '0.5532', 'loss=', '0.032293303')\n",
      "('Epoch:', '0068', 'training time (minutes)=', '0.5530', 'loss=', '0.031641276')\n",
      "('Epoch:', '0069', 'training time (minutes)=', '0.5530', 'loss=', '0.032460743')\n",
      "('Epoch:', '0070', 'training time (minutes)=', '0.5531', 'loss=', '0.032939459')\n",
      "INFO:tensorflow:../data/single_class_ae/models.ckpt-70 is not in all_model_checkpoint_paths. Manually adding it.\n",
      "('Epoch:', '0071', 'training time (minutes)=', '0.5532', 'loss=', '0.032674953')\n",
      "('Epoch:', '0072', 'training time (minutes)=', '0.5531', 'loss=', '0.031871144')\n",
      "('Epoch:', '0073', 'training time (minutes)=', '0.5530', 'loss=', '0.032154574')\n",
      "('Epoch:', '0074', 'training time (minutes)=', '0.5531', 'loss=', '0.031670178')\n",
      "('Epoch:', '0075', 'training time (minutes)=', '0.5531', 'loss=', '0.032114200')\n",
      "('Epoch:', '0076', 'training time (minutes)=', '0.5530', 'loss=', '0.031525108')\n",
      "('Epoch:', '0077', 'training time (minutes)=', '0.5531', 'loss=', '0.031940109')\n",
      "('Epoch:', '0078', 'training time (minutes)=', '0.5531', 'loss=', '0.032070329')\n",
      "('Epoch:', '0079', 'training time (minutes)=', '0.5532', 'loss=', '0.031599755')\n",
      "('Epoch:', '0080', 'training time (minutes)=', '0.5532', 'loss=', '0.031971526')\n",
      "INFO:tensorflow:../data/single_class_ae/models.ckpt-80 is not in all_model_checkpoint_paths. Manually adding it.\n",
      "('Epoch:', '0081', 'training time (minutes)=', '0.5532', 'loss=', '0.031842395')\n",
      "('Epoch:', '0082', 'training time (minutes)=', '0.5532', 'loss=', '0.031096233')\n",
      "('Epoch:', '0083', 'training time (minutes)=', '0.5532', 'loss=', '0.031242344')\n",
      "('Epoch:', '0084', 'training time (minutes)=', '0.5531', 'loss=', '0.031177298')\n",
      "('Epoch:', '0085', 'training time (minutes)=', '0.5530', 'loss=', '0.031606992')\n",
      "('Epoch:', '0086', 'training time (minutes)=', '0.5531', 'loss=', '0.031156756')\n",
      "('Epoch:', '0087', 'training time (minutes)=', '0.5530', 'loss=', '0.031298375')\n",
      "('Epoch:', '0088', 'training time (minutes)=', '0.5531', 'loss=', '0.030846108')\n",
      "('Epoch:', '0089', 'training time (minutes)=', '0.5530', 'loss=', '0.031316583')\n"
     ]
    },
    {
     "name": "stdout",
     "output_type": "stream",
     "text": [
      "('Epoch:', '0090', 'training time (minutes)=', '0.5530', 'loss=', '0.031549776')\n",
      "INFO:tensorflow:../data/single_class_ae/models.ckpt-90 is not in all_model_checkpoint_paths. Manually adding it.\n",
      "('Epoch:', '0091', 'training time (minutes)=', '0.5532', 'loss=', '0.030658772')\n",
      "('Epoch:', '0092', 'training time (minutes)=', '0.5530', 'loss=', '0.031326662')\n",
      "('Epoch:', '0093', 'training time (minutes)=', '0.5531', 'loss=', '0.031053642')\n",
      "('Epoch:', '0094', 'training time (minutes)=', '0.5531', 'loss=', '0.030742591')\n",
      "('Epoch:', '0095', 'training time (minutes)=', '0.5530', 'loss=', '0.031167185')\n",
      "('Epoch:', '0096', 'training time (minutes)=', '0.5531', 'loss=', '0.030951000')\n",
      "('Epoch:', '0097', 'training time (minutes)=', '0.5532', 'loss=', '0.030654038')\n",
      "('Epoch:', '0098', 'training time (minutes)=', '0.5532', 'loss=', '0.030747567')\n",
      "('Epoch:', '0099', 'training time (minutes)=', '0.5532', 'loss=', '0.030696890')\n",
      "('Epoch:', '0100', 'training time (minutes)=', '0.5534', 'loss=', '0.030510634')\n",
      "INFO:tensorflow:../data/single_class_ae/models.ckpt-100 is not in all_model_checkpoint_paths. Manually adding it.\n",
      "('Epoch:', '0101', 'training time (minutes)=', '0.5532', 'loss=', '0.031235417')\n",
      "('Epoch:', '0102', 'training time (minutes)=', '0.5530', 'loss=', '0.030793168')\n",
      "('Epoch:', '0103', 'training time (minutes)=', '0.5531', 'loss=', '0.030346027')\n",
      "('Epoch:', '0104', 'training time (minutes)=', '0.5532', 'loss=', '0.030358979')\n",
      "('Epoch:', '0105', 'training time (minutes)=', '0.5531', 'loss=', '0.030793493')\n",
      "('Epoch:', '0106', 'training time (minutes)=', '0.5532', 'loss=', '0.030486776')\n",
      "('Epoch:', '0107', 'training time (minutes)=', '0.5531', 'loss=', '0.030970037')\n",
      "('Epoch:', '0108', 'training time (minutes)=', '0.5531', 'loss=', '0.030843084')\n",
      "('Epoch:', '0109', 'training time (minutes)=', '0.5531', 'loss=', '0.030661443')\n",
      "('Epoch:', '0110', 'training time (minutes)=', '0.5531', 'loss=', '0.030915761')\n",
      "INFO:tensorflow:../data/single_class_ae/models.ckpt-110 is not in all_model_checkpoint_paths. Manually adding it.\n",
      "('Epoch:', '0111', 'training time (minutes)=', '0.5532', 'loss=', '0.030158914')\n",
      "('Epoch:', '0112', 'training time (minutes)=', '0.5530', 'loss=', '0.030313794')\n",
      "('Epoch:', '0113', 'training time (minutes)=', '0.5531', 'loss=', '0.030065458')\n",
      "('Epoch:', '0114', 'training time (minutes)=', '0.5532', 'loss=', '0.030423002')\n",
      "('Epoch:', '0115', 'training time (minutes)=', '0.5532', 'loss=', '0.030671362')\n",
      "('Epoch:', '0116', 'training time (minutes)=', '0.5533', 'loss=', '0.029950666')\n",
      "('Epoch:', '0117', 'training time (minutes)=', '0.5533', 'loss=', '0.030776525')\n",
      "('Epoch:', '0118', 'training time (minutes)=', '0.5530', 'loss=', '0.030100175')\n",
      "('Epoch:', '0119', 'training time (minutes)=', '0.5529', 'loss=', '0.030134881')\n",
      "('Epoch:', '0120', 'training time (minutes)=', '0.5531', 'loss=', '0.029894781')\n",
      "INFO:tensorflow:../data/single_class_ae/models.ckpt-120 is not in all_model_checkpoint_paths. Manually adding it.\n",
      "('Epoch:', '0121', 'training time (minutes)=', '0.5532', 'loss=', '0.030188091')\n",
      "('Epoch:', '0122', 'training time (minutes)=', '0.5533', 'loss=', '0.029820840')\n",
      "('Epoch:', '0123', 'training time (minutes)=', '0.5531', 'loss=', '0.030115856')\n",
      "('Epoch:', '0124', 'training time (minutes)=', '0.5532', 'loss=', '0.030243818')\n",
      "('Epoch:', '0125', 'training time (minutes)=', '0.5532', 'loss=', '0.030229527')\n",
      "('Epoch:', '0126', 'training time (minutes)=', '0.5531', 'loss=', '0.030039619')\n",
      "('Epoch:', '0127', 'training time (minutes)=', '0.5530', 'loss=', '0.030048735')\n",
      "('Epoch:', '0128', 'training time (minutes)=', '0.5531', 'loss=', '0.029749944')\n",
      "('Epoch:', '0129', 'training time (minutes)=', '0.5531', 'loss=', '0.029621279')\n",
      "('Epoch:', '0130', 'training time (minutes)=', '0.5529', 'loss=', '0.029914059')\n",
      "INFO:tensorflow:../data/single_class_ae/models.ckpt-130 is not in all_model_checkpoint_paths. Manually adding it.\n",
      "('Epoch:', '0131', 'training time (minutes)=', '0.5531', 'loss=', '0.029818253')\n",
      "('Epoch:', '0132', 'training time (minutes)=', '0.5531', 'loss=', '0.029929501')\n",
      "('Epoch:', '0133', 'training time (minutes)=', '0.5529', 'loss=', '0.029944784')\n",
      "('Epoch:', '0134', 'training time (minutes)=', '0.5530', 'loss=', '0.029514011')\n",
      "('Epoch:', '0135', 'training time (minutes)=', '0.5530', 'loss=', '0.029649996')\n",
      "('Epoch:', '0136', 'training time (minutes)=', '0.5530', 'loss=', '0.029704373')\n",
      "('Epoch:', '0137', 'training time (minutes)=', '0.5530', 'loss=', '0.029732138')\n",
      "('Epoch:', '0138', 'training time (minutes)=', '0.5530', 'loss=', '0.029324033')\n",
      "('Epoch:', '0139', 'training time (minutes)=', '0.5531', 'loss=', '0.029804639')\n",
      "('Epoch:', '0140', 'training time (minutes)=', '0.5531', 'loss=', '0.029676513')\n",
      "INFO:tensorflow:../data/single_class_ae/models.ckpt-140 is not in all_model_checkpoint_paths. Manually adding it.\n",
      "('Epoch:', '0141', 'training time (minutes)=', '0.5532', 'loss=', '0.029347191')\n",
      "('Epoch:', '0142', 'training time (minutes)=', '0.5530', 'loss=', '0.029726283')\n",
      "('Epoch:', '0143', 'training time (minutes)=', '0.5530', 'loss=', '0.029451313')\n",
      "('Epoch:', '0144', 'training time (minutes)=', '0.5531', 'loss=', '0.029296142')\n",
      "('Epoch:', '0145', 'training time (minutes)=', '0.5531', 'loss=', '0.029218079')\n",
      "('Epoch:', '0146', 'training time (minutes)=', '0.5529', 'loss=', '0.029605751')\n",
      "('Epoch:', '0147', 'training time (minutes)=', '0.5533', 'loss=', '0.029705260')\n",
      "('Epoch:', '0148', 'training time (minutes)=', '0.5531', 'loss=', '0.029464164')\n",
      "('Epoch:', '0149', 'training time (minutes)=', '0.5530', 'loss=', '0.029559500')\n",
      "('Epoch:', '0150', 'training time (minutes)=', '0.5529', 'loss=', '0.029014763')\n",
      "INFO:tensorflow:../data/single_class_ae/models.ckpt-150 is not in all_model_checkpoint_paths. Manually adding it.\n",
      "('Epoch:', '0151', 'training time (minutes)=', '0.5531', 'loss=', '0.029086931')\n",
      "('Epoch:', '0152', 'training time (minutes)=', '0.5529', 'loss=', '0.029098126')\n",
      "('Epoch:', '0153', 'training time (minutes)=', '0.5530', 'loss=', '0.029391835')\n",
      "('Epoch:', '0154', 'training time (minutes)=', '0.5531', 'loss=', '0.029555479')\n",
      "('Epoch:', '0155', 'training time (minutes)=', '0.5530', 'loss=', '0.029027336')\n",
      "('Epoch:', '0156', 'training time (minutes)=', '0.5531', 'loss=', '0.029212429')\n",
      "('Epoch:', '0157', 'training time (minutes)=', '0.5529', 'loss=', '0.029534797')\n",
      "('Epoch:', '0158', 'training time (minutes)=', '0.5530', 'loss=', '0.029036229')\n",
      "('Epoch:', '0159', 'training time (minutes)=', '0.5529', 'loss=', '0.029415938')\n",
      "('Epoch:', '0160', 'training time (minutes)=', '0.5530', 'loss=', '0.029418845')\n",
      "INFO:tensorflow:../data/single_class_ae/models.ckpt-160 is not in all_model_checkpoint_paths. Manually adding it.\n",
      "('Epoch:', '0161', 'training time (minutes)=', '0.5530', 'loss=', '0.029228088')\n",
      "('Epoch:', '0162', 'training time (minutes)=', '0.5531', 'loss=', '0.028985523')\n",
      "('Epoch:', '0163', 'training time (minutes)=', '0.5531', 'loss=', '0.029161729')\n",
      "('Epoch:', '0164', 'training time (minutes)=', '0.5531', 'loss=', '0.029395850')\n",
      "('Epoch:', '0165', 'training time (minutes)=', '0.5530', 'loss=', '0.028864171')\n",
      "('Epoch:', '0166', 'training time (minutes)=', '0.5530', 'loss=', '0.028626413')\n",
      "('Epoch:', '0167', 'training time (minutes)=', '0.5531', 'loss=', '0.029122422')\n",
      "('Epoch:', '0168', 'training time (minutes)=', '0.5531', 'loss=', '0.028768816')\n",
      "('Epoch:', '0169', 'training time (minutes)=', '0.5531', 'loss=', '0.028954018')\n",
      "('Epoch:', '0170', 'training time (minutes)=', '0.5531', 'loss=', '0.028374390')\n",
      "INFO:tensorflow:../data/single_class_ae/models.ckpt-170 is not in all_model_checkpoint_paths. Manually adding it.\n",
      "('Epoch:', '0171', 'training time (minutes)=', '0.5532', 'loss=', '0.028742740')\n",
      "('Epoch:', '0172', 'training time (minutes)=', '0.5531', 'loss=', '0.028871403')\n",
      "('Epoch:', '0173', 'training time (minutes)=', '0.5529', 'loss=', '0.028997165')\n",
      "('Epoch:', '0174', 'training time (minutes)=', '0.5529', 'loss=', '0.028652548')\n",
      "('Epoch:', '0175', 'training time (minutes)=', '0.5532', 'loss=', '0.028773138')\n",
      "('Epoch:', '0176', 'training time (minutes)=', '0.5530', 'loss=', '0.028828683')\n",
      "('Epoch:', '0177', 'training time (minutes)=', '0.5530', 'loss=', '0.028848835')\n",
      "('Epoch:', '0178', 'training time (minutes)=', '0.5532', 'loss=', '0.029018779')\n"
     ]
    },
    {
     "name": "stdout",
     "output_type": "stream",
     "text": [
      "('Epoch:', '0179', 'training time (minutes)=', '0.5532', 'loss=', '0.029004787')\n",
      "('Epoch:', '0180', 'training time (minutes)=', '0.5530', 'loss=', '0.028608417')\n",
      "INFO:tensorflow:../data/single_class_ae/models.ckpt-180 is not in all_model_checkpoint_paths. Manually adding it.\n",
      "('Epoch:', '0181', 'training time (minutes)=', '0.5532', 'loss=', '0.029269147')\n",
      "('Epoch:', '0182', 'training time (minutes)=', '0.5532', 'loss=', '0.028595845')\n",
      "('Epoch:', '0183', 'training time (minutes)=', '0.5531', 'loss=', '0.028461538')\n",
      "('Epoch:', '0184', 'training time (minutes)=', '0.5529', 'loss=', '0.028810056')\n"
     ]
    }
   ],
   "source": [
    "buf_size = 1 # flush each line\n",
    "fout = open(osp.join(conf.train_dir, 'train_stats.txt'), 'a', buf_size)\n",
    "train_stats = ae.train(all_pc_data, conf, log_file=fout)\n",
    "fout.close()"
   ]
  },
  {
   "cell_type": "markdown",
   "metadata": {},
   "source": [
    "Get some reconstuctions and latent-codes."
   ]
  },
  {
   "cell_type": "code",
   "execution_count": null,
   "metadata": {},
   "outputs": [],
   "source": [
    "feed_pc, feed_model_names, _ = all_pc_data.next_batch(10)\n",
    "reconstructions = ae.reconstruct(feed_pc)\n",
    "latent_codes = ae.transform(feed_pc)"
   ]
  },
  {
   "cell_type": "code",
   "execution_count": null,
   "metadata": {},
   "outputs": [],
   "source": []
  }
 ],
 "metadata": {
  "kernelspec": {
   "display_name": "Python 2",
   "language": "python",
   "name": "python2"
  },
  "language_info": {
   "codemirror_mode": {
    "name": "ipython",
    "version": 2
   },
   "file_extension": ".py",
   "mimetype": "text/x-python",
   "name": "python",
   "nbconvert_exporter": "python",
   "pygments_lexer": "ipython2",
   "version": "2.7.12"
  }
 },
 "nbformat": 4,
 "nbformat_minor": 2
}
