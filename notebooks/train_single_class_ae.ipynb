{
 "cells": [
  {
   "cell_type": "markdown",
   "metadata": {},
   "source": [
    "## This notebook will help you train a vanilla Point-Cloud AE with the basic architecture we used in our paper.\n",
    "    (it assumes latent_3d_points is in the PYTHONPATH and the structural losses have been compiled)"
   ]
  },
  {
   "cell_type": "code",
   "execution_count": 1,
   "metadata": {},
   "outputs": [
    {
     "name": "stdout",
     "output_type": "stream",
     "text": [
      "/home/yz6/.virtualenvs/gan_env/bin/jupyter\r\n"
     ]
    }
   ],
   "source": [
    "!which jupyter"
   ]
  },
  {
   "cell_type": "code",
   "execution_count": 1,
   "metadata": {},
   "outputs": [
    {
     "name": "stderr",
     "output_type": "stream",
     "text": [
      "/home/yz6/.virtualenvs/gan_env/lib/python2.7/site-packages/h5py/__init__.py:36: FutureWarning: Conversion of the second argument of issubdtype from `float` to `np.floating` is deprecated. In future, it will be treated as `np.float64 == np.dtype(float).type`.\n",
      "  from ._conv import register_converters as _register_converters\n"
     ]
    }
   ],
   "source": [
    "\n",
    "\n",
    "import os.path as osp\n",
    "\n",
    "from latent_3d_points.src.ae_templates import mlp_architecture_ala_iclr_18, default_train_params\n",
    "from latent_3d_points.src.autoencoder import Configuration as Conf\n",
    "from latent_3d_points.src.point_net_ae import PointNetAutoEncoder\n",
    "\n",
    "from latent_3d_points.src.in_out import snc_category_to_synth_id, create_dir, PointCloudDataSet, \\\n",
    "                                        load_all_point_clouds_under_folder\n",
    "\n",
    "from latent_3d_points.src.tf_utils import reset_tf_graph"
   ]
  },
  {
   "cell_type": "code",
   "execution_count": 2,
   "metadata": {},
   "outputs": [],
   "source": [
    "%load_ext autoreload\n",
    "%autoreload 2\n",
    "%matplotlib inline"
   ]
  },
  {
   "cell_type": "markdown",
   "metadata": {},
   "source": [
    "Define Basic Parameters"
   ]
  },
  {
   "cell_type": "code",
   "execution_count": 3,
   "metadata": {},
   "outputs": [],
   "source": [
    "top_out_dir = '../data/'                        # Use to write Neural-Net check-points etc.\n",
    "top_in_dir = '../data/shape_net_core_uniform_samples_2048/' # Top-dir of where point-clouds are stored.\n",
    "\n",
    "experiment_name = 'single_class_ae_chair_emd'\n",
    "n_pc_points = 2048                              # Number of points per model.\n",
    "bneck_size = 128                                # Bottleneck-AE size\n",
    "ae_loss = 'emd'                             # Loss to optimize: 'emd' or 'chamfer'\n",
    "class_name = 'chair'"
   ]
  },
  {
   "cell_type": "markdown",
   "metadata": {},
   "source": [
    "Load Point-Clouds"
   ]
  },
  {
   "cell_type": "code",
   "execution_count": 4,
   "metadata": {},
   "outputs": [
    {
     "name": "stdout",
     "output_type": "stream",
     "text": [
      "6778 pclouds were loaded. They belong in 1 shape-classes.\n"
     ]
    }
   ],
   "source": [
    "syn_id = snc_category_to_synth_id()[class_name]\n",
    "class_dir = osp.join(top_in_dir , syn_id)\n",
    "all_pc_data = load_all_point_clouds_under_folder(class_dir, n_threads=8, file_ending='.ply', verbose=True)"
   ]
  },
  {
   "cell_type": "code",
   "execution_count": null,
   "metadata": {},
   "outputs": [],
   "source": [
    "all_pc_data.shape"
   ]
  },
  {
   "cell_type": "markdown",
   "metadata": {},
   "source": [
    "Load default training parameters (some of which are listed here). For more details please use print, etc.\n",
    "\n",
    "    'batch_size': 50   \n",
    "    \n",
    "    'denoising': False     (# by default AE is not denoising)\n",
    "\n",
    "    'learning_rate': 0.0005\n",
    "\n",
    "    'z_rotate': False      (# randomly rotate models of each batch)\n",
    "    \n",
    "    'loss_display_step': 1 (# display loss at end of this many epochs)\n",
    "    'saver_step': 10       (# how many epochs to save neural-network)"
   ]
  },
  {
   "cell_type": "code",
   "execution_count": 8,
   "metadata": {},
   "outputs": [],
   "source": [
    "train_dir = create_dir(osp.join(top_out_dir, experiment_name))\n",
    "train_params = default_train_params()\n",
    "encoder, decoder, enc_args, dec_args = mlp_architecture_ala_iclr_18(n_pc_points, bneck_size)"
   ]
  },
  {
   "cell_type": "code",
   "execution_count": 10,
   "metadata": {},
   "outputs": [],
   "source": [
    "conf = Conf(n_input = [n_pc_points, 3],\n",
    "            loss = ae_loss,\n",
    "            training_epochs = 1000, #train_params['training_epochs'],\n",
    "            batch_size = train_params['batch_size'],\n",
    "            denoising = train_params['denoising'],\n",
    "            learning_rate = train_params['learning_rate'],\n",
    "            train_dir = train_dir,\n",
    "            loss_display_step = train_params['loss_display_step'],\n",
    "            saver_step = train_params['saver_step'],\n",
    "            z_rotate = True, #train_params['z_rotate'],\n",
    "            encoder = encoder,\n",
    "            decoder = decoder,\n",
    "            encoder_args = enc_args,\n",
    "            decoder_args = dec_args\n",
    "           )\n",
    "conf.experiment_name = experiment_name\n",
    "conf.held_out_step = 5              # How often to evaluate/print out loss on held_out data (if any).\n",
    "conf.save(osp.join(train_dir, 'configuration'))"
   ]
  },
  {
   "cell_type": "markdown",
   "metadata": {},
   "source": [
    "Build AE Model."
   ]
  },
  {
   "cell_type": "code",
   "execution_count": 11,
   "metadata": {},
   "outputs": [
    {
     "name": "stdout",
     "output_type": "stream",
     "text": [
      "Building Encoder\n",
      "WARNING:tensorflow:From /home/yz6/.virtualenvs/gan_env/lib/python2.7/site-packages/tflearn/initializations.py:119: __init__ (from tensorflow.python.ops.init_ops) is deprecated and will be removed in a future version.\n",
      "Instructions for updating:\n",
      "Use tf.initializers.variance_scaling instead with distribution=uniform to get equivalent behavior.\n",
      "encoder_conv_layer_0 conv params =  256 bnorm params =  128\n",
      "Tensor(\"single_class_ae_plane_chamfer_zrotate_2/Relu:0\", shape=(?, 2048, 64), dtype=float32)\n",
      "output size: 131072 \n",
      "\n",
      "encoder_conv_layer_1 conv params =  8320 bnorm params =  256\n",
      "Tensor(\"single_class_ae_plane_chamfer_zrotate_2/Relu_1:0\", shape=(?, 2048, 128), dtype=float32)\n",
      "output size: 262144 \n",
      "\n",
      "encoder_conv_layer_2 conv params =  16512 bnorm params =  256\n",
      "Tensor(\"single_class_ae_plane_chamfer_zrotate_2/Relu_2:0\", shape=(?, 2048, 128), dtype=float32)\n",
      "output size: 262144 \n",
      "\n",
      "encoder_conv_layer_3 conv params =  33024 bnorm params =  512\n",
      "Tensor(\"single_class_ae_plane_chamfer_zrotate_2/Relu_3:0\", shape=(?, 2048, 256), dtype=float32)\n",
      "output size: 524288 \n",
      "\n",
      "encoder_conv_layer_4 conv params =  32896 bnorm params =  256\n",
      "Tensor(\"single_class_ae_plane_chamfer_zrotate_2/Relu_4:0\", shape=(?, 2048, 128), dtype=float32)\n",
      "output size: 262144 \n",
      "\n",
      "Tensor(\"single_class_ae_plane_chamfer_zrotate_2/Max:0\", shape=(?, 128), dtype=float32)\n",
      "Building Decoder\n",
      "decoder_fc_0 FC params =  33024 Tensor(\"single_class_ae_plane_chamfer_zrotate_2/Relu_5:0\", shape=(?, 256), dtype=float32)\n",
      "output size: 256 \n",
      "\n",
      "decoder_fc_1 FC params =  65792 Tensor(\"single_class_ae_plane_chamfer_zrotate_2/Relu_6:0\", shape=(?, 256), dtype=float32)\n",
      "output size: 256 \n",
      "\n",
      "decoder_fc_2 FC params =  1579008 Tensor(\"single_class_ae_plane_chamfer_zrotate_2/decoder_fc_2/BiasAdd:0\", shape=(?, 6144), dtype=float32)\n",
      "output size: 6144 \n",
      "\n"
     ]
    }
   ],
   "source": [
    "reset_tf_graph()\n",
    "ae = PointNetAutoEncoder(conf.experiment_name, conf)"
   ]
  },
  {
   "cell_type": "markdown",
   "metadata": {},
   "source": [
    "Train the AE (save output to train_stats.txt) "
   ]
  },
  {
   "cell_type": "code",
   "execution_count": null,
   "metadata": {
    "scrolled": false
   },
   "outputs": [
    {
     "name": "stdout",
     "output_type": "stream",
     "text": [
      "('Epoch:', '0001', 'training time (minutes)=', '0.2386', 'loss=', '0.006588727')\n",
      "INFO:tensorflow:../data/single_class_ae_plane_chamfer_zrotate/models.ckpt-1 is not in all_model_checkpoint_paths. Manually adding it.\n",
      "('Epoch:', '0002', 'training time (minutes)=', '0.2339', 'loss=', '0.002068891')\n",
      "('Epoch:', '0003', 'training time (minutes)=', '0.2335', 'loss=', '0.001702406')\n",
      "('Epoch:', '0004', 'training time (minutes)=', '0.2339', 'loss=', '0.001330950')\n",
      "('Epoch:', '0005', 'training time (minutes)=', '0.2336', 'loss=', '0.001213857')\n",
      "('Epoch:', '0006', 'training time (minutes)=', '0.2330', 'loss=', '0.001138876')\n",
      "('Epoch:', '0007', 'training time (minutes)=', '0.2328', 'loss=', '0.001079385')\n",
      "('Epoch:', '0008', 'training time (minutes)=', '0.2329', 'loss=', '0.000995324')\n",
      "('Epoch:', '0009', 'training time (minutes)=', '0.2332', 'loss=', '0.001100612')\n",
      "('Epoch:', '0010', 'training time (minutes)=', '0.2337', 'loss=', '0.000981374')\n",
      "INFO:tensorflow:../data/single_class_ae_plane_chamfer_zrotate/models.ckpt-10 is not in all_model_checkpoint_paths. Manually adding it.\n",
      "('Epoch:', '0011', 'training time (minutes)=', '0.2340', 'loss=', '0.000884539')\n",
      "('Epoch:', '0012', 'training time (minutes)=', '0.2332', 'loss=', '0.000864554')\n",
      "('Epoch:', '0013', 'training time (minutes)=', '0.2333', 'loss=', '0.000882714')\n",
      "('Epoch:', '0014', 'training time (minutes)=', '0.2332', 'loss=', '0.000843208')\n",
      "('Epoch:', '0015', 'training time (minutes)=', '0.2334', 'loss=', '0.000912934')\n",
      "('Epoch:', '0016', 'training time (minutes)=', '0.2331', 'loss=', '0.000791397')\n",
      "('Epoch:', '0017', 'training time (minutes)=', '0.2334', 'loss=', '0.000865818')\n",
      "('Epoch:', '0018', 'training time (minutes)=', '0.2329', 'loss=', '0.000755406')\n",
      "('Epoch:', '0019', 'training time (minutes)=', '0.2329', 'loss=', '0.000759368')\n",
      "('Epoch:', '0020', 'training time (minutes)=', '0.2330', 'loss=', '0.000719035')\n",
      "INFO:tensorflow:../data/single_class_ae_plane_chamfer_zrotate/models.ckpt-20 is not in all_model_checkpoint_paths. Manually adding it.\n",
      "('Epoch:', '0021', 'training time (minutes)=', '0.2335', 'loss=', '0.000698771')\n",
      "('Epoch:', '0022', 'training time (minutes)=', '0.2333', 'loss=', '0.000740592')\n",
      "('Epoch:', '0023', 'training time (minutes)=', '0.2332', 'loss=', '0.000645162')\n",
      "('Epoch:', '0024', 'training time (minutes)=', '0.2339', 'loss=', '0.000725326')\n",
      "('Epoch:', '0025', 'training time (minutes)=', '0.2328', 'loss=', '0.000689102')\n",
      "('Epoch:', '0026', 'training time (minutes)=', '0.2337', 'loss=', '0.000795061')\n",
      "('Epoch:', '0027', 'training time (minutes)=', '0.2339', 'loss=', '0.000689314')\n",
      "('Epoch:', '0028', 'training time (minutes)=', '0.2336', 'loss=', '0.000632372')\n",
      "('Epoch:', '0029', 'training time (minutes)=', '0.2341', 'loss=', '0.000656671')\n",
      "('Epoch:', '0030', 'training time (minutes)=', '0.2337', 'loss=', '0.000622177')\n",
      "INFO:tensorflow:../data/single_class_ae_plane_chamfer_zrotate/models.ckpt-30 is not in all_model_checkpoint_paths. Manually adding it.\n",
      "('Epoch:', '0031', 'training time (minutes)=', '0.2336', 'loss=', '0.000622722')\n",
      "('Epoch:', '0032', 'training time (minutes)=', '0.2330', 'loss=', '0.000586456')\n",
      "('Epoch:', '0033', 'training time (minutes)=', '0.2333', 'loss=', '0.000601577')\n",
      "('Epoch:', '0034', 'training time (minutes)=', '0.2335', 'loss=', '0.000578793')\n",
      "('Epoch:', '0035', 'training time (minutes)=', '0.2337', 'loss=', '0.000644479')\n",
      "('Epoch:', '0036', 'training time (minutes)=', '0.2329', 'loss=', '0.000558780')\n",
      "('Epoch:', '0037', 'training time (minutes)=', '0.2333', 'loss=', '0.000663950')\n",
      "('Epoch:', '0038', 'training time (minutes)=', '0.2331', 'loss=', '0.000606951')\n",
      "('Epoch:', '0039', 'training time (minutes)=', '0.2335', 'loss=', '0.000653346')\n",
      "('Epoch:', '0040', 'training time (minutes)=', '0.2332', 'loss=', '0.000576739')\n",
      "INFO:tensorflow:../data/single_class_ae_plane_chamfer_zrotate/models.ckpt-40 is not in all_model_checkpoint_paths. Manually adding it.\n",
      "('Epoch:', '0041', 'training time (minutes)=', '0.2339', 'loss=', '0.000571422')\n",
      "('Epoch:', '0042', 'training time (minutes)=', '0.2333', 'loss=', '0.000558082')\n",
      "('Epoch:', '0043', 'training time (minutes)=', '0.2334', 'loss=', '0.000532351')\n",
      "('Epoch:', '0044', 'training time (minutes)=', '0.2334', 'loss=', '0.000555232')\n",
      "('Epoch:', '0045', 'training time (minutes)=', '0.2335', 'loss=', '0.000589578')\n",
      "('Epoch:', '0046', 'training time (minutes)=', '0.2334', 'loss=', '0.000596921')\n",
      "('Epoch:', '0047', 'training time (minutes)=', '0.2332', 'loss=', '0.000603710')\n",
      "('Epoch:', '0048', 'training time (minutes)=', '0.2335', 'loss=', '0.000557496')\n",
      "('Epoch:', '0049', 'training time (minutes)=', '0.2333', 'loss=', '0.000539935')\n"
     ]
    }
   ],
   "source": [
    "buf_size = 1 # flush each line\n",
    "fout = open(osp.join(conf.train_dir, 'train_stats.txt'), 'a', buf_size)\n",
    "train_stats = ae.train(all_pc_data, conf, log_file=fout)\n",
    "fout.close()"
   ]
  },
  {
   "cell_type": "markdown",
   "metadata": {},
   "source": [
    "Get some reconstuctions and latent-codes."
   ]
  },
  {
   "cell_type": "code",
   "execution_count": null,
   "metadata": {},
   "outputs": [],
   "source": [
    "feed_pc, feed_model_names, _ = all_pc_data.next_batch(10)\n",
    "reconstructions = ae.reconstruct(feed_pc)\n",
    "latent_codes = ae.transform(feed_pc)"
   ]
  },
  {
   "cell_type": "code",
   "execution_count": null,
   "metadata": {},
   "outputs": [],
   "source": []
  }
 ],
 "metadata": {
  "kernelspec": {
   "display_name": "Python 2",
   "language": "python",
   "name": "python2"
  },
  "language_info": {
   "codemirror_mode": {
    "name": "ipython",
    "version": 2
   },
   "file_extension": ".py",
   "mimetype": "text/x-python",
   "name": "python",
   "nbconvert_exporter": "python",
   "pygments_lexer": "ipython2",
   "version": "2.7.12"
  }
 },
 "nbformat": 4,
 "nbformat_minor": 2
}
